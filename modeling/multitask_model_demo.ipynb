{
 "cells": [
  {
   "cell_type": "code",
   "execution_count": null,
   "id": "initial_id",
   "metadata": {
    "ExecuteTime": {
     "end_time": "2023-08-09T13:04:27.594019737Z",
     "start_time": "2023-08-09T13:04:23.570467769Z"
    },
    "collapsed": true
   },
   "outputs": [
    {
     "name": "stderr",
     "output_type": "stream",
     "text": [
      "2023-08-09 15:04:25.920254: I tensorflow/core/util/port.cc:110] oneDNN custom operations are on. You may see slightly different numerical results due to floating-point round-off errors from different computation orders. To turn them off, set the environment variable `TF_ENABLE_ONEDNN_OPTS=0`.\n",
      "2023-08-09 15:04:25.967003: I tensorflow/core/platform/cpu_feature_guard.cc:182] This TensorFlow binary is optimized to use available CPU instructions in performance-critical operations.\n",
      "To enable the following instructions: AVX2 AVX512F AVX512_VNNI FMA, in other operations, rebuild TensorFlow with the appropriate compiler flags.\n",
      "2023-08-09 15:04:26.778961: W tensorflow/compiler/tf2tensorrt/utils/py_utils.cc:38] TF-TRT Warning: Could not find TensorRT\n"
     ]
    }
   ],
   "source": [
    "from multitask_roberta import RobertaForMultiTaskTokenClassification\n",
    "from multitask_data_collator import DataCollatorForMultiTaskTokenClassification\n",
    "from transformers import RobertaTokenizerFast\n",
    "from torch.utils.data import DataLoader\n",
    "import pandas as pd"
   ]
  },
  {
   "cell_type": "code",
   "execution_count": 2,
   "id": "b7f630dba8122482",
   "metadata": {
    "ExecuteTime": {
     "end_time": "2023-08-09T13:04:29.545204841Z",
     "start_time": "2023-08-09T13:04:27.594421328Z"
    },
    "collapsed": false
   },
   "outputs": [
    {
     "name": "stderr",
     "output_type": "stream",
     "text": [
      "Some weights of RobertaForMultiTaskTokenClassification were not initialized from the model checkpoint at roberta-base and are newly initialized: ['classifiers.dur.bias', 'classifiers.reread.weight', 'classifiers.skip.weight', 'classifiers.refix.bias', 'classifiers.dur.weight', 'classifiers.nfix.bias', 'classifiers.skip.bias', 'classifiers.reread.bias', 'classifiers.firstrun_nfix.bias', 'classifiers.firstfix_dur.bias', 'classifiers.firstrun_nfix.weight', 'classifiers.refix.weight', 'classifiers.firstfix_dur.weight', 'classifiers.firstrun_dur.weight', 'classifiers.nfix.weight', 'classifiers.firstrun_dur.bias']\n",
      "You should probably TRAIN this model on a down-stream task to be able to use it for predictions and inference.\n"
     ]
    }
   ],
   "source": [
    "model_name = 'roberta-base'\n",
    "model = RobertaForMultiTaskTokenClassification.from_pretrained(model_name)\n",
    "tokenizer = RobertaTokenizerFast.from_pretrained(model_name, add_prefix_space=True)"
   ]
  },
  {
   "cell_type": "code",
   "execution_count": 3,
   "id": "64a30245b397d489",
   "metadata": {
    "ExecuteTime": {
     "end_time": "2023-08-09T13:04:29.568386395Z",
     "start_time": "2023-08-09T13:04:29.545413852Z"
    },
    "collapsed": false
   },
   "outputs": [],
   "source": [
    "data_path = '../augmenting_nlms_meco_data/en/en_6_dataset.csv'"
   ]
  },
  {
   "cell_type": "code",
   "execution_count": 4,
   "id": "66b06ba35e5d9cf8",
   "metadata": {
    "ExecuteTime": {
     "end_time": "2023-08-09T13:04:29.568734762Z",
     "start_time": "2023-08-09T13:04:29.553564919Z"
    },
    "collapsed": false
   },
   "outputs": [],
   "source": [
    "def load_data_sample(src_path, num_samples):\n",
    "    features_names = ['skip', 'firstfix.dur', 'firstrun.dur', 'dur', 'firstrun.nfix', 'nfix', 'refix', 'reread']\n",
    "    sample_dataset = pd.DataFrame(columns=['sent_id', 'sentence'] + ['label_'+feature_name.replace('.', '_') for feature_name in features_names])\n",
    "    df = pd.read_csv(src_path)\n",
    "    grouped_sentences = df.groupby(['trialid', 'sentnum'])\n",
    "    for idx, key in enumerate(grouped_sentences.groups.keys()):\n",
    "        sent_df = grouped_sentences.get_group(key)\n",
    "        sent_id = f'{int(key[0])}_{int(key[1])}'\n",
    "        sentence = sent_df['ia'].tolist()\n",
    "        sample_dataset.loc[idx] = [sent_id, sentence] + [sent_df[feat].tolist() for feat in features_names]\n",
    "        if len(sample_dataset) == num_samples:\n",
    "            return sample_dataset"
   ]
  },
  {
   "cell_type": "code",
   "execution_count": 5,
   "id": "8994a2561f634040",
   "metadata": {
    "ExecuteTime": {
     "end_time": "2023-08-09T13:04:29.605659613Z",
     "start_time": "2023-08-09T13:04:29.561502497Z"
    },
    "collapsed": false
   },
   "outputs": [],
   "source": [
    "data_sample_df = load_data_sample(data_path, 10)"
   ]
  },
  {
   "cell_type": "code",
   "execution_count": 6,
   "id": "b152c1a198215e88",
   "metadata": {
    "ExecuteTime": {
     "end_time": "2023-08-09T13:04:29.650388042Z",
     "start_time": "2023-08-09T13:04:29.605487248Z"
    },
    "collapsed": false
   },
   "outputs": [
    {
     "data": {
      "text/html": [
       "<div>\n",
       "<style scoped>\n",
       "    .dataframe tbody tr th:only-of-type {\n",
       "        vertical-align: middle;\n",
       "    }\n",
       "\n",
       "    .dataframe tbody tr th {\n",
       "        vertical-align: top;\n",
       "    }\n",
       "\n",
       "    .dataframe thead th {\n",
       "        text-align: right;\n",
       "    }\n",
       "</style>\n",
       "<table border=\"1\" class=\"dataframe\">\n",
       "  <thead>\n",
       "    <tr style=\"text-align: right;\">\n",
       "      <th></th>\n",
       "      <th>sent_id</th>\n",
       "      <th>sentence</th>\n",
       "      <th>label_skip</th>\n",
       "      <th>label_firstfix_dur</th>\n",
       "      <th>label_firstrun_dur</th>\n",
       "      <th>label_dur</th>\n",
       "      <th>label_firstrun_nfix</th>\n",
       "      <th>label_nfix</th>\n",
       "      <th>label_refix</th>\n",
       "      <th>label_reread</th>\n",
       "    </tr>\n",
       "  </thead>\n",
       "  <tbody>\n",
       "    <tr>\n",
       "      <th>0</th>\n",
       "      <td>1_1</td>\n",
       "      <td>[In, ancient, Roman, religion, and, myth,, Jan...</td>\n",
       "      <td>[1.0, 0.0, 0.0, 0.0, 1.0, 0.0, 0.0, 0.0, 0.0, ...</td>\n",
       "      <td>[0.0, 144.0, 175.0, 187.0, 0.0, 181.0, 183.0, ...</td>\n",
       "      <td>[0.0, 453.0, 175.0, 187.0, 0.0, 303.0, 183.0, ...</td>\n",
       "      <td>[0.0, 453.0, 175.0, 187.0, 0.0, 303.0, 183.0, ...</td>\n",
       "      <td>[0.0, 2.0, 1.0, 1.0, 0.0, 2.0, 1.0, 1.0, 2.0, ...</td>\n",
       "      <td>[0.0, 2.0, 1.0, 1.0, 0.0, 2.0, 1.0, 2.0, 3.0, ...</td>\n",
       "      <td>[0.0, 1.0, 0.0, 0.0, 0.0, 1.0, 0.0, 0.0, 1.0, ...</td>\n",
       "      <td>[0.0, 0.0, 0.0, 0.0, 0.0, 0.0, 0.0, 1.0, 1.0, ...</td>\n",
       "    </tr>\n",
       "    <tr>\n",
       "      <th>1</th>\n",
       "      <td>1_2</td>\n",
       "      <td>[He, has, a, double, nature, and, is, usually,...</td>\n",
       "      <td>[1.0, 0.0, 0.0, 0.0, 0.0, 0.0, 0.0, 0.0, 0.0, ...</td>\n",
       "      <td>[0.0, 113.0, 141.0, 155.0, 154.0, 192.0, 187.0...</td>\n",
       "      <td>[0.0, 255.0, 141.0, 155.0, 154.0, 192.0, 187.0...</td>\n",
       "      <td>[0.0, 255.0, 141.0, 155.0, 154.0, 192.0, 187.0...</td>\n",
       "      <td>[0.0, 2.0, 1.0, 1.0, 1.0, 1.0, 1.0, 2.0, 1.0, ...</td>\n",
       "      <td>[0.0, 2.0, 1.0, 1.0, 1.0, 1.0, 1.0, 2.0, 2.0, ...</td>\n",
       "      <td>[0.0, 1.0, 0.0, 0.0, 0.0, 0.0, 0.0, 1.0, 0.0, ...</td>\n",
       "      <td>[0.0, 0.0, 0.0, 0.0, 0.0, 0.0, 0.0, 0.0, 1.0, ...</td>\n",
       "    </tr>\n",
       "    <tr>\n",
       "      <th>2</th>\n",
       "      <td>1_3</td>\n",
       "      <td>[Janus, presided, over, the, beginning, and, e...</td>\n",
       "      <td>[0.0, 0.0, 0.0, 1.0, 0.0, 1.0, 0.0, 0.0, 0.0, ...</td>\n",
       "      <td>[219.0, 173.0, 242.0, 0.0, 66.0, 0.0, 197.0, 1...</td>\n",
       "      <td>[219.0, 173.0, 418.0, 0.0, 240.0, 0.0, 261.0, ...</td>\n",
       "      <td>[219.0, 173.0, 418.0, 0.0, 240.0, 0.0, 261.0, ...</td>\n",
       "      <td>[1.0, 1.0, 3.0, 0.0, 2.0, 0.0, 2.0, 2.0, 1.0, ...</td>\n",
       "      <td>[1.0, 1.0, 3.0, 0.0, 2.0, 0.0, 2.0, 2.0, 1.0, ...</td>\n",
       "      <td>[0.0, 0.0, 1.0, 0.0, 1.0, 0.0, 1.0, 1.0, 0.0, ...</td>\n",
       "      <td>[0.0, 0.0, 0.0, 0.0, 0.0, 0.0, 0.0, 0.0, 0.0, ...</td>\n",
       "    </tr>\n",
       "    <tr>\n",
       "      <th>3</th>\n",
       "      <td>1_4</td>\n",
       "      <td>[The, doors, of, his, temple, were, open, in, ...</td>\n",
       "      <td>[0.0, 0.0, 1.0, 0.0, 0.0, 1.0, 0.0, 1.0, 0.0, ...</td>\n",
       "      <td>[222.0, 506.0, 0.0, 167.0, 119.0, 0.0, 282.0, ...</td>\n",
       "      <td>[222.0, 506.0, 0.0, 167.0, 119.0, 0.0, 282.0, ...</td>\n",
       "      <td>[222.0, 506.0, 0.0, 167.0, 119.0, 0.0, 282.0, ...</td>\n",
       "      <td>[1.0, 1.0, 0.0, 1.0, 1.0, 0.0, 1.0, 0.0, 1.0, ...</td>\n",
       "      <td>[1.0, 1.0, 0.0, 1.0, 1.0, 0.0, 1.0, 0.0, 1.0, ...</td>\n",
       "      <td>[0.0, 0.0, 0.0, 0.0, 0.0, 0.0, 0.0, 0.0, 0.0, ...</td>\n",
       "      <td>[0.0, 0.0, 0.0, 0.0, 0.0, 0.0, 0.0, 0.0, 0.0, ...</td>\n",
       "    </tr>\n",
       "    <tr>\n",
       "      <th>4</th>\n",
       "      <td>1_5</td>\n",
       "      <td>[As, the, god, of, gates,, he, was, also, asso...</td>\n",
       "      <td>[0.0, 0.0, 0.0, 0.0, 0.0, 0.0, 0.0, 0.0, 0.0, ...</td>\n",
       "      <td>[104.0, 136.0, 159.0, 151.0, 36.0, 129.0, 157....</td>\n",
       "      <td>[104.0, 136.0, 159.0, 248.0, 36.0, 129.0, 302....</td>\n",
       "      <td>[220.0, 136.0, 218.0, 550.0, 159.0, 129.0, 610...</td>\n",
       "      <td>[1.0, 1.0, 1.0, 2.0, 1.0, 1.0, 2.0, 1.0, 1.0, ...</td>\n",
       "      <td>[2.0, 1.0, 2.0, 4.0, 2.0, 1.0, 4.0, 1.0, 4.0, ...</td>\n",
       "      <td>[0.0, 0.0, 0.0, 1.0, 0.0, 0.0, 1.0, 0.0, 1.0, ...</td>\n",
       "      <td>[1.0, 0.0, 1.0, 1.0, 1.0, 0.0, 1.0, 0.0, 1.0, ...</td>\n",
       "    </tr>\n",
       "  </tbody>\n",
       "</table>\n",
       "</div>"
      ],
      "text/plain": [
       "  sent_id                                           sentence  \\\n",
       "0     1_1  [In, ancient, Roman, religion, and, myth,, Jan...   \n",
       "1     1_2  [He, has, a, double, nature, and, is, usually,...   \n",
       "2     1_3  [Janus, presided, over, the, beginning, and, e...   \n",
       "3     1_4  [The, doors, of, his, temple, were, open, in, ...   \n",
       "4     1_5  [As, the, god, of, gates,, he, was, also, asso...   \n",
       "\n",
       "                                          label_skip  \\\n",
       "0  [1.0, 0.0, 0.0, 0.0, 1.0, 0.0, 0.0, 0.0, 0.0, ...   \n",
       "1  [1.0, 0.0, 0.0, 0.0, 0.0, 0.0, 0.0, 0.0, 0.0, ...   \n",
       "2  [0.0, 0.0, 0.0, 1.0, 0.0, 1.0, 0.0, 0.0, 0.0, ...   \n",
       "3  [0.0, 0.0, 1.0, 0.0, 0.0, 1.0, 0.0, 1.0, 0.0, ...   \n",
       "4  [0.0, 0.0, 0.0, 0.0, 0.0, 0.0, 0.0, 0.0, 0.0, ...   \n",
       "\n",
       "                                  label_firstfix_dur  \\\n",
       "0  [0.0, 144.0, 175.0, 187.0, 0.0, 181.0, 183.0, ...   \n",
       "1  [0.0, 113.0, 141.0, 155.0, 154.0, 192.0, 187.0...   \n",
       "2  [219.0, 173.0, 242.0, 0.0, 66.0, 0.0, 197.0, 1...   \n",
       "3  [222.0, 506.0, 0.0, 167.0, 119.0, 0.0, 282.0, ...   \n",
       "4  [104.0, 136.0, 159.0, 151.0, 36.0, 129.0, 157....   \n",
       "\n",
       "                                  label_firstrun_dur  \\\n",
       "0  [0.0, 453.0, 175.0, 187.0, 0.0, 303.0, 183.0, ...   \n",
       "1  [0.0, 255.0, 141.0, 155.0, 154.0, 192.0, 187.0...   \n",
       "2  [219.0, 173.0, 418.0, 0.0, 240.0, 0.0, 261.0, ...   \n",
       "3  [222.0, 506.0, 0.0, 167.0, 119.0, 0.0, 282.0, ...   \n",
       "4  [104.0, 136.0, 159.0, 248.0, 36.0, 129.0, 302....   \n",
       "\n",
       "                                           label_dur  \\\n",
       "0  [0.0, 453.0, 175.0, 187.0, 0.0, 303.0, 183.0, ...   \n",
       "1  [0.0, 255.0, 141.0, 155.0, 154.0, 192.0, 187.0...   \n",
       "2  [219.0, 173.0, 418.0, 0.0, 240.0, 0.0, 261.0, ...   \n",
       "3  [222.0, 506.0, 0.0, 167.0, 119.0, 0.0, 282.0, ...   \n",
       "4  [220.0, 136.0, 218.0, 550.0, 159.0, 129.0, 610...   \n",
       "\n",
       "                                 label_firstrun_nfix  \\\n",
       "0  [0.0, 2.0, 1.0, 1.0, 0.0, 2.0, 1.0, 1.0, 2.0, ...   \n",
       "1  [0.0, 2.0, 1.0, 1.0, 1.0, 1.0, 1.0, 2.0, 1.0, ...   \n",
       "2  [1.0, 1.0, 3.0, 0.0, 2.0, 0.0, 2.0, 2.0, 1.0, ...   \n",
       "3  [1.0, 1.0, 0.0, 1.0, 1.0, 0.0, 1.0, 0.0, 1.0, ...   \n",
       "4  [1.0, 1.0, 1.0, 2.0, 1.0, 1.0, 2.0, 1.0, 1.0, ...   \n",
       "\n",
       "                                          label_nfix  \\\n",
       "0  [0.0, 2.0, 1.0, 1.0, 0.0, 2.0, 1.0, 2.0, 3.0, ...   \n",
       "1  [0.0, 2.0, 1.0, 1.0, 1.0, 1.0, 1.0, 2.0, 2.0, ...   \n",
       "2  [1.0, 1.0, 3.0, 0.0, 2.0, 0.0, 2.0, 2.0, 1.0, ...   \n",
       "3  [1.0, 1.0, 0.0, 1.0, 1.0, 0.0, 1.0, 0.0, 1.0, ...   \n",
       "4  [2.0, 1.0, 2.0, 4.0, 2.0, 1.0, 4.0, 1.0, 4.0, ...   \n",
       "\n",
       "                                         label_refix  \\\n",
       "0  [0.0, 1.0, 0.0, 0.0, 0.0, 1.0, 0.0, 0.0, 1.0, ...   \n",
       "1  [0.0, 1.0, 0.0, 0.0, 0.0, 0.0, 0.0, 1.0, 0.0, ...   \n",
       "2  [0.0, 0.0, 1.0, 0.0, 1.0, 0.0, 1.0, 1.0, 0.0, ...   \n",
       "3  [0.0, 0.0, 0.0, 0.0, 0.0, 0.0, 0.0, 0.0, 0.0, ...   \n",
       "4  [0.0, 0.0, 0.0, 1.0, 0.0, 0.0, 1.0, 0.0, 1.0, ...   \n",
       "\n",
       "                                        label_reread  \n",
       "0  [0.0, 0.0, 0.0, 0.0, 0.0, 0.0, 0.0, 1.0, 1.0, ...  \n",
       "1  [0.0, 0.0, 0.0, 0.0, 0.0, 0.0, 0.0, 0.0, 1.0, ...  \n",
       "2  [0.0, 0.0, 0.0, 0.0, 0.0, 0.0, 0.0, 0.0, 0.0, ...  \n",
       "3  [0.0, 0.0, 0.0, 0.0, 0.0, 0.0, 0.0, 0.0, 0.0, ...  \n",
       "4  [1.0, 0.0, 1.0, 1.0, 1.0, 0.0, 1.0, 0.0, 1.0, ...  "
      ]
     },
     "execution_count": 6,
     "metadata": {},
     "output_type": "execute_result"
    }
   ],
   "source": [
    "data_sample_df.head()"
   ]
  },
  {
   "cell_type": "code",
   "execution_count": 7,
   "id": "32c8303a51fc255b",
   "metadata": {
    "ExecuteTime": {
     "end_time": "2023-08-09T13:04:29.831479100Z",
     "start_time": "2023-08-09T13:04:29.649289434Z"
    },
    "collapsed": false
   },
   "outputs": [],
   "source": [
    "from datasets import Dataset\n",
    "sample_dataset = Dataset.from_pandas(data_sample_df)"
   ]
  },
  {
   "cell_type": "code",
   "execution_count": 8,
   "id": "e945cbf8a9b825ab",
   "metadata": {
    "ExecuteTime": {
     "end_time": "2023-08-09T13:04:29.855881935Z",
     "start_time": "2023-08-09T13:04:29.834430691Z"
    },
    "collapsed": false
   },
   "outputs": [
    {
     "data": {
      "text/plain": [
       "Dataset({\n",
       "    features: ['sent_id', 'sentence', 'label_skip', 'label_firstfix_dur', 'label_firstrun_dur', 'label_dur', 'label_firstrun_nfix', 'label_nfix', 'label_refix', 'label_reread', '__index_level_0__'],\n",
       "    num_rows: 10\n",
       "})"
      ]
     },
     "execution_count": 8,
     "metadata": {},
     "output_type": "execute_result"
    }
   ],
   "source": [
    "sample_dataset"
   ]
  },
  {
   "cell_type": "code",
   "execution_count": 9,
   "id": "f2f43c5a987dda44",
   "metadata": {
    "ExecuteTime": {
     "end_time": "2023-08-09T13:04:29.856206914Z",
     "start_time": "2023-08-09T13:04:29.843295837Z"
    },
    "collapsed": false
   },
   "outputs": [],
   "source": [
    "# adapted from https://github.com/huggingface/transformers/blob/main/examples/pytorch/token-classification/run_ner_no_trainer.py\n",
    "\n",
    "def tokenize_and_align_labels(dataset, label_all_tokens=False):\n",
    "    tokenized_inputs = tokenizer(sample_dataset['sentence'], max_length=128, padding=True, truncation=True,\n",
    "                                 is_split_into_words=True)\n",
    "    labels = dict()\n",
    "    for feature_name in [col_name for col_name in sample_dataset.column_names if col_name.startswith('label_')]:\n",
    "        labels[feature_name] = list()\n",
    "        for i, label in enumerate(dataset[feature_name]):\n",
    "            word_ids = tokenized_inputs.word_ids(batch_index=i)\n",
    "            previous_word_idx = None\n",
    "            label_ids = []\n",
    "            for word_idx in word_ids:\n",
    "                # Special tokens have a word id that is None. We set the label to -100 so they are automatically\n",
    "                # ignored in the loss function.\n",
    "                if word_idx is None:\n",
    "                    label_ids.append(-100)\n",
    "                # We set the label for the first token of each word.\n",
    "                elif word_idx != previous_word_idx:\n",
    "                    label_ids.append(label[word_idx])\n",
    "                # For the other tokens in a word, we set the label to either the current label or -100, depending on\n",
    "                # the label_all_tokens flag.\n",
    "                else:\n",
    "                    if label_all_tokens:\n",
    "                        label_ids.append(label[word_idx])\n",
    "                    else:\n",
    "                        label_ids.append(-100)\n",
    "                previous_word_idx = word_idx\n",
    "\n",
    "            labels[feature_name].append(label_ids)\n",
    "        tokenized_inputs[feature_name] = labels[feature_name]\n",
    "    return tokenized_inputs"
   ]
  },
  {
   "cell_type": "code",
   "execution_count": 10,
   "id": "ecc4933e58e7ecbd",
   "metadata": {
    "ExecuteTime": {
     "end_time": "2023-08-09T13:04:29.951930547Z",
     "start_time": "2023-08-09T13:04:29.849571138Z"
    },
    "collapsed": false
   },
   "outputs": [
    {
     "data": {
      "application/vnd.jupyter.widget-view+json": {
       "model_id": "c190ba6c08f3402b884324b5713bd508",
       "version_major": 2,
       "version_minor": 0
      },
      "text/plain": [
       "Map:   0%|          | 0/10 [00:00<?, ? examples/s]"
      ]
     },
     "metadata": {},
     "output_type": "display_data"
    }
   ],
   "source": [
    "tokenized_dataset = sample_dataset.map(\n",
    "            tokenize_and_align_labels,\n",
    "            batched=True,\n",
    "            remove_columns=sample_dataset.column_names,\n",
    "            # desc=\"Running tokenizer on dataset\",\n",
    "        )"
   ]
  },
  {
   "cell_type": "code",
   "execution_count": 11,
   "id": "2e08b57d437d872b",
   "metadata": {
    "ExecuteTime": {
     "end_time": "2023-08-09T13:04:30.015505676Z",
     "start_time": "2023-08-09T13:04:29.941939687Z"
    },
    "collapsed": false
   },
   "outputs": [
    {
     "name": "stdout",
     "output_type": "stream",
     "text": [
      "tokens:  ['<s>', 'ĠIn', 'Ġancient', 'ĠRoman', 'Ġreligion', 'Ġand', 'Ġmyth', ',', 'ĠJan', 'us', 'Ġis', 'Ġthe', 'Ġgod', 'Ġof', 'Ġbeginnings', 'Ġand', 'Ġgates', '.', '</s>', '<pad>', '<pad>', '<pad>', '<pad>', '<pad>', '<pad>', '<pad>', '<pad>', '<pad>', '<pad>', '<pad>', '<pad>', '<pad>', '<pad>', '<pad>', '<pad>', '<pad>']\n",
      "label_skip: [-100.0, 1.0, 0.0, 0.0, 0.0, 1.0, 0.0, -100.0, 0.0, -100.0, 0.0, 0.0, 1.0, 1.0, 0.0, 1.0, 0.0, -100.0, -100.0, -100.0, -100.0, -100.0, -100.0, -100.0, -100.0, -100.0, -100.0, -100.0, -100.0, -100.0, -100.0, -100.0, -100.0, -100.0, -100.0, -100.0]\n",
      "label_firstfix_dur: [-100.0, 0.0, 144.0, 175.0, 187.0, 0.0, 181.0, -100.0, 183.0, -100.0, 56.0, 296.0, 0.0, 0.0, 188.0, 0.0, 167.0, -100.0, -100.0, -100.0, -100.0, -100.0, -100.0, -100.0, -100.0, -100.0, -100.0, -100.0, -100.0, -100.0, -100.0, -100.0, -100.0, -100.0, -100.0, -100.0]\n",
      "label_firstrun_dur: [-100.0, 0.0, 453.0, 175.0, 187.0, 0.0, 303.0, -100.0, 183.0, -100.0, 56.0, 429.0, 0.0, 0.0, 340.0, 0.0, 367.0, -100.0, -100.0, -100.0, -100.0, -100.0, -100.0, -100.0, -100.0, -100.0, -100.0, -100.0, -100.0, -100.0, -100.0, -100.0, -100.0, -100.0, -100.0, -100.0]\n",
      "label_dur: [-100.0, 0.0, 453.0, 175.0, 187.0, 0.0, 303.0, -100.0, 183.0, -100.0, 179.0, 588.0, 0.0, 0.0, 340.0, 0.0, 367.0, -100.0, -100.0, -100.0, -100.0, -100.0, -100.0, -100.0, -100.0, -100.0, -100.0, -100.0, -100.0, -100.0, -100.0, -100.0, -100.0, -100.0, -100.0, -100.0]\n",
      "label_firstrun_nfix: [-100.0, 0.0, 2.0, 1.0, 1.0, 0.0, 2.0, -100.0, 1.0, -100.0, 1.0, 2.0, 0.0, 0.0, 2.0, 0.0, 2.0, -100.0, -100.0, -100.0, -100.0, -100.0, -100.0, -100.0, -100.0, -100.0, -100.0, -100.0, -100.0, -100.0, -100.0, -100.0, -100.0, -100.0, -100.0, -100.0]\n",
      "label_nfix: [-100.0, 0.0, 2.0, 1.0, 1.0, 0.0, 2.0, -100.0, 1.0, -100.0, 2.0, 3.0, 0.0, 0.0, 2.0, 0.0, 2.0, -100.0, -100.0, -100.0, -100.0, -100.0, -100.0, -100.0, -100.0, -100.0, -100.0, -100.0, -100.0, -100.0, -100.0, -100.0, -100.0, -100.0, -100.0, -100.0]\n",
      "label_refix: [-100.0, 0.0, 1.0, 0.0, 0.0, 0.0, 1.0, -100.0, 0.0, -100.0, 0.0, 1.0, 0.0, 0.0, 1.0, 0.0, 1.0, -100.0, -100.0, -100.0, -100.0, -100.0, -100.0, -100.0, -100.0, -100.0, -100.0, -100.0, -100.0, -100.0, -100.0, -100.0, -100.0, -100.0, -100.0, -100.0]\n",
      "label_reread: [-100.0, 0.0, 0.0, 0.0, 0.0, 0.0, 0.0, -100.0, 0.0, -100.0, 1.0, 1.0, 0.0, 0.0, 0.0, 0.0, 0.0, -100.0, -100.0, -100.0, -100.0, -100.0, -100.0, -100.0, -100.0, -100.0, -100.0, -100.0, -100.0, -100.0, -100.0, -100.0, -100.0, -100.0, -100.0, -100.0]\n",
      "input_ids: [0, 96, 8178, 7733, 6825, 8, 17721, 6, 1133, 687, 16, 5, 9069, 9, 28351, 8, 14213, 4, 2, 1, 1, 1, 1, 1, 1, 1, 1, 1, 1, 1, 1, 1, 1, 1, 1, 1]\n",
      "attention_mask: [1, 1, 1, 1, 1, 1, 1, 1, 1, 1, 1, 1, 1, 1, 1, 1, 1, 1, 1, 0, 0, 0, 0, 0, 0, 0, 0, 0, 0, 0, 0, 0, 0, 0, 0, 0]\n"
     ]
    }
   ],
   "source": [
    "print('tokens: ', tokenizer.convert_ids_to_tokens(tokenized_dataset[0]['input_ids']))\n",
    "for key in tokenized_dataset[0].keys():\n",
    "    print(f'{key}:', tokenized_dataset[0][key])"
   ]
  },
  {
   "cell_type": "code",
   "execution_count": 13,
   "id": "19acc9a5c8b16683",
   "metadata": {
    "ExecuteTime": {
     "end_time": "2023-08-09T13:04:30.022352551Z",
     "start_time": "2023-08-09T13:04:29.990055416Z"
    },
    "collapsed": false
   },
   "outputs": [
    {
     "data": {
      "text/plain": [
       "Dataset({\n",
       "    features: ['label_skip', 'label_firstfix_dur', 'label_firstrun_dur', 'label_dur', 'label_firstrun_nfix', 'label_nfix', 'label_refix', 'label_reread', 'input_ids', 'attention_mask'],\n",
       "    num_rows: 10\n",
       "})"
      ]
     },
     "execution_count": 13,
     "metadata": {},
     "output_type": "execute_result"
    }
   ],
   "source": [
    "tokenized_dataset"
   ]
  },
  {
   "cell_type": "code",
   "execution_count": 14,
   "id": "92c4cd5e42f4473c",
   "metadata": {
    "ExecuteTime": {
     "end_time": "2023-08-09T13:04:30.022734677Z",
     "start_time": "2023-08-09T13:04:29.990316332Z"
    },
    "collapsed": false
   },
   "outputs": [],
   "source": [
    "data_collator = DataCollatorForMultiTaskTokenClassification(tokenizer)"
   ]
  },
  {
   "cell_type": "code",
   "execution_count": 15,
   "id": "7b360e03fb75a983",
   "metadata": {
    "ExecuteTime": {
     "end_time": "2023-08-09T13:04:30.100798260Z",
     "start_time": "2023-08-09T13:04:29.990560576Z"
    },
    "collapsed": false
   },
   "outputs": [],
   "source": [
    "dataloader = DataLoader(tokenized_dataset, shuffle=True, collate_fn=data_collator, batch_size=2)"
   ]
  },
  {
   "cell_type": "code",
   "execution_count": 16,
   "id": "d980e58eac0d7d8c",
   "metadata": {
    "ExecuteTime": {
     "end_time": "2023-08-09T13:04:30.183512066Z",
     "start_time": "2023-08-09T13:04:30.037416257Z"
    },
    "collapsed": false
   },
   "outputs": [
    {
     "name": "stderr",
     "output_type": "stream",
     "text": [
      "You're using a RobertaTokenizerFast tokenizer. Please note that with a fast tokenizer, using the `__call__` method is faster than using a method to encode the text followed by a call to the `pad` method to get a padded encoding.\n"
     ]
    }
   ],
   "source": [
    "for step, batch in enumerate(dataloader):\n",
    "    outputs = model(**batch)\n",
    "    break"
   ]
  }
 ],
 "metadata": {
  "kernelspec": {
   "display_name": "Python 3",
   "language": "python",
   "name": "python3"
  },
  "language_info": {
   "codemirror_mode": {
    "name": "ipython",
    "version": 2
   },
   "file_extension": ".py",
   "mimetype": "text/x-python",
   "name": "python",
   "nbconvert_exporter": "python",
   "pygments_lexer": "ipython2",
   "version": "2.7.6"
  }
 },
 "nbformat": 4,
 "nbformat_minor": 5
}
