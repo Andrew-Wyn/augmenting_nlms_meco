{
 "cells": [
  {
   "cell_type": "code",
   "execution_count": 1,
   "id": "initial_id",
   "metadata": {
    "collapsed": true,
    "ExecuteTime": {
     "end_time": "2023-08-08T13:30:20.201784791Z",
     "start_time": "2023-08-08T13:30:18.625301804Z"
    }
   },
   "outputs": [],
   "source": [
    "from multitask_roberta import RobertaForMultiTaskTokenClassification\n",
    "from transformers import AutoTokenizer\n",
    "import pandas as pd"
   ]
  },
  {
   "cell_type": "code",
   "execution_count": 2,
   "outputs": [
    {
     "name": "stderr",
     "output_type": "stream",
     "text": [
      "Some weights of RobertaForMultiTaskTokenClassification were not initialized from the model checkpoint at roberta-base and are newly initialized: ['classifiers.skip.bias', 'classifiers.firstfix_dur.bias', 'classifiers.refix.weight', 'classifiers.skip.weight', 'classifiers.firstrun_nfix.bias', 'classifiers.reread.bias', 'classifiers.reread.weight', 'classifiers.refix.bias', 'classifiers.firstrun_dur.weight', 'classifiers.dur.bias', 'classifiers.dur.weight', 'classifiers.firstrun_dur.bias', 'classifiers.firstrun_nfix.weight', 'classifiers.firstfix_dur.weight', 'classifiers.nfix.bias', 'classifiers.nfix.weight']\n",
      "You should probably TRAIN this model on a down-stream task to be able to use it for predictions and inference.\n"
     ]
    }
   ],
   "source": [
    "model_name = 'roberta-base'\n",
    "model = RobertaForMultiTaskTokenClassification.from_pretrained(model_name)\n",
    "tokenizer = AutoTokenizer.from_pretrained(model_name)"
   ],
   "metadata": {
    "collapsed": false,
    "ExecuteTime": {
     "end_time": "2023-08-08T13:30:22.252909171Z",
     "start_time": "2023-08-08T13:30:20.201247968Z"
    }
   },
   "id": "b7f630dba8122482"
  },
  {
   "cell_type": "code",
   "execution_count": 4,
   "outputs": [],
   "source": [
    "data_path = '../augmenting_nlms_meco_data/en/en_6_dataset.csv'"
   ],
   "metadata": {
    "collapsed": false,
    "ExecuteTime": {
     "end_time": "2023-08-08T13:30:22.272779326Z",
     "start_time": "2023-08-08T13:30:22.257863344Z"
    }
   },
   "id": "64a30245b397d489"
  },
  {
   "cell_type": "code",
   "execution_count": 23,
   "outputs": [],
   "source": [
    "def load_data_sample(src_path, num_samples):\n",
    "\tfeatures_names = ['skip', 'firstrun.dur', 'dur', 'firstrun.nfix', 'nfix', 'refix', 'reread']\n",
    "\tsample_dataset = dict()\n",
    "\tdf = pd.read_csv(src_path)\n",
    "\tgrouped_sentences = df.groupby(['trialid', 'sentnum'])\n",
    "\tfor key in grouped_sentences.groups.keys():\n",
    "\t\tsent_df = grouped_sentences.get_group(key)\n",
    "\t\tsent_id = f'{int(key[0])}_{int(key[1])}'\n",
    "\t\ttokens = sent_df['ia'].tolist()\n",
    "\t\tsample_dataset[sent_id] = {'sentence': tokens}\n",
    "\t\tfor feat_name in features_names:\n",
    "\t\t\tsample_dataset[feat_name] = sent_df[feat_name].tolist\n",
    "\t\tif len(sample_dataset) == num_samples-1:\n",
    "\t\t\treturn sample_dataset"
   ],
   "metadata": {
    "collapsed": false,
    "ExecuteTime": {
     "end_time": "2023-08-08T13:40:35.525826610Z",
     "start_time": "2023-08-08T13:40:35.515441576Z"
    }
   },
   "id": "3f8d7c70b7197984"
  },
  {
   "cell_type": "code",
   "execution_count": 24,
   "outputs": [],
   "source": [
    "sample_dataset = load_data_sample(data_path, 10)"
   ],
   "metadata": {
    "collapsed": false,
    "ExecuteTime": {
     "end_time": "2023-08-08T13:40:41.251284306Z",
     "start_time": "2023-08-08T13:40:41.236896624Z"
    }
   },
   "id": "8994a2561f634040"
  },
  {
   "cell_type": "code",
   "execution_count": 5,
   "outputs": [],
   "source": [],
   "metadata": {
    "collapsed": false,
    "ExecuteTime": {
     "end_time": "2023-08-08T13:30:23.093055650Z",
     "start_time": "2023-08-08T13:30:23.086560396Z"
    }
   },
   "id": "dfa3ec6a16119068"
  },
  {
   "cell_type": "code",
   "execution_count": 5,
   "outputs": [],
   "source": [],
   "metadata": {
    "collapsed": false,
    "ExecuteTime": {
     "end_time": "2023-08-08T13:30:23.093981913Z",
     "start_time": "2023-08-08T13:30:23.089729011Z"
    }
   },
   "id": "f2f43c5a987dda44"
  }
 ],
 "metadata": {
  "kernelspec": {
   "display_name": "Python 3",
   "language": "python",
   "name": "python3"
  },
  "language_info": {
   "codemirror_mode": {
    "name": "ipython",
    "version": 2
   },
   "file_extension": ".py",
   "mimetype": "text/x-python",
   "name": "python",
   "nbconvert_exporter": "python",
   "pygments_lexer": "ipython2",
   "version": "2.7.6"
  }
 },
 "nbformat": 4,
 "nbformat_minor": 5
}
