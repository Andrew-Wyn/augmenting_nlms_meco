{
 "cells": [
  {
   "cell_type": "code",
   "execution_count": 1,
   "id": "initial_id",
   "metadata": {
    "ExecuteTime": {
     "end_time": "2023-09-22T08:32:15.832042599Z",
     "start_time": "2023-09-22T08:32:15.628110083Z"
    }
   },
   "outputs": [],
   "source": [
    "from datasets import Dataset\n",
    "import pandas as pd\n",
    "import csv\n",
    "import re\n",
    "import os"
   ]
  },
  {
   "cell_type": "code",
   "execution_count": 2,
   "id": "0ee2e469-069e-4072-8f1f-e4da0a839029",
   "metadata": {},
   "outputs": [],
   "source": [
    "model_name = 'xlm-roberta-base'"
   ]
  },
  {
   "cell_type": "code",
   "execution_count": 3,
   "id": "62ee53e082417c54",
   "metadata": {
    "ExecuteTime": {
     "end_time": "2023-09-22T08:32:27.526134051Z",
     "start_time": "2023-09-22T08:32:27.514960046Z"
    },
    "collapsed": false,
    "jupyter": {
     "outputs_hidden": false
    }
   },
   "outputs": [],
   "source": [
    "src_dir = '../augmenting_nlms_meco_data/sentiment/it_sentipolc'"
   ]
  },
  {
   "cell_type": "code",
   "execution_count": 4,
   "id": "9d3f7737953e40f",
   "metadata": {
    "ExecuteTime": {
     "end_time": "2023-09-22T08:33:55.673492478Z",
     "start_time": "2023-09-22T08:33:55.598121334Z"
    },
    "collapsed": false,
    "jupyter": {
     "outputs_hidden": false
    }
   },
   "outputs": [],
   "source": [
    "sentipolc_files = {\n",
    "    'train': [os.path.join(src_dir, file_name) for file_name in os.listdir(src_dir) if 'training_set' in file_name][0],\n",
    "    'test': [os.path.join(src_dir, file_name) for file_name in os.listdir(src_dir) if 'test_set' in file_name][0]\n",
    "}"
   ]
  },
  {
   "cell_type": "code",
   "execution_count": 5,
   "id": "8fc2c8d0daaefdd4",
   "metadata": {
    "ExecuteTime": {
     "end_time": "2023-09-22T08:34:00.057501469Z",
     "start_time": "2023-09-22T08:34:00.055380928Z"
    },
    "collapsed": false,
    "jupyter": {
     "outputs_hidden": false
    }
   },
   "outputs": [
    {
     "data": {
      "text/plain": [
       "{'train': '../augmenting_nlms_meco_data/sentiment/it_sentipolc/training_set_sentipolc16.csv',\n",
       " 'test': '../augmenting_nlms_meco_data/sentiment/it_sentipolc/test_set_sentipolc16_gold2000.csv'}"
      ]
     },
     "execution_count": 5,
     "metadata": {},
     "output_type": "execute_result"
    }
   ],
   "source": [
    "sentipolc_files"
   ]
  },
  {
   "cell_type": "code",
   "execution_count": 11,
   "id": "11b1ae83-81db-4216-b264-30bdaa6f8138",
   "metadata": {},
   "outputs": [],
   "source": [
    "def create_dataset_from_faulty_csv(src_path):\n",
    "    dataset_dict = {'text': [], 'label_pos': [], 'label_neg':[]}\n",
    "    with open(src_path) as src_file:\n",
    "        csv_reader = csv.reader(src_file, delimiter=',', quotechar='\"')\n",
    "        print('')\n",
    "        for row in csv_reader:\n",
    "            if row[0] == 'idtwitter':\n",
    "                continue\n",
    "            if len(row) != 9:\n",
    "                cut_row = row[:9]\n",
    "                cut_row[8] += ',' + ', '.join(row[9:])\n",
    "                row = cut_row\n",
    "            dataset_dict['text'].append(row[8])\n",
    "            dataset_dict['label_pos'].append(int(row[2]))\n",
    "            dataset_dict['label_neg'].append(int(row[3]))\n",
    "    return Dataset.from_dict(dataset_dict)"
   ]
  },
  {
   "cell_type": "code",
   "execution_count": 12,
   "id": "c7844f58-2f31-4c8b-9f9a-1e88eedecfd5",
   "metadata": {},
   "outputs": [
    {
     "name": "stdout",
     "output_type": "stream",
     "text": [
      "\n",
      "\n"
     ]
    }
   ],
   "source": [
    "train_data = create_dataset_from_faulty_csv(sentipolc_files['train'])\n",
    "test_data = create_dataset_from_faulty_csv(sentipolc_files['test'])"
   ]
  },
  {
   "cell_type": "code",
   "execution_count": 13,
   "id": "e7985884-03ae-4b13-b20c-57aca93c38b9",
   "metadata": {},
   "outputs": [
    {
     "data": {
      "text/plain": [
       "(Dataset({\n",
       "     features: ['text', 'label_pos', 'label_neg'],\n",
       "     num_rows: 7410\n",
       " }),\n",
       " Dataset({\n",
       "     features: ['text', 'label_pos', 'label_neg'],\n",
       "     num_rows: 1998\n",
       " }))"
      ]
     },
     "execution_count": 13,
     "metadata": {},
     "output_type": "execute_result"
    }
   ],
   "source": [
    "train_data, test_data"
   ]
  },
  {
   "cell_type": "code",
   "execution_count": 14,
   "id": "dfb6cb27-02d8-45f6-8e26-07309f1ef973",
   "metadata": {},
   "outputs": [],
   "source": [
    "from transformers import AutoTokenizer\n",
    "tokenizer = AutoTokenizer.from_pretrained(model_name)"
   ]
  }
 ],
 "metadata": {
  "kernelspec": {
   "display_name": "Python 3 (ipykernel)",
   "language": "python",
   "name": "python3"
  },
  "language_info": {
   "codemirror_mode": {
    "name": "ipython",
    "version": 3
   },
   "file_extension": ".py",
   "mimetype": "text/x-python",
   "name": "python",
   "nbconvert_exporter": "python",
   "pygments_lexer": "ipython3",
   "version": "3.10.12"
  }
 },
 "nbformat": 4,
 "nbformat_minor": 5
}
