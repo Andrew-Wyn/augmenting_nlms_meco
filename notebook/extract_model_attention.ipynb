{
 "cells": [
  {
   "cell_type": "code",
   "execution_count": 1,
   "id": "initial_id",
   "metadata": {
    "ExecuteTime": {
     "end_time": "2023-09-04T13:39:28.643484862Z",
     "start_time": "2023-09-04T13:39:25.710486468Z"
    }
   },
   "outputs": [],
   "source": [
    "import sys\n",
    "import os\n",
    "sys.path.append(os.path.abspath('..'))\n",
    "\n",
    "from anm.gaze_dataloader.dataset import _create_senteces_from_data\n",
    "from anm.attn_correlation.utils import *\n",
    "import pandas as pd"
   ]
  },
  {
   "cell_type": "markdown",
   "id": "ea696bc14c127804",
   "metadata": {
    "collapsed": false,
    "jupyter": {
     "outputs_hidden": false
    }
   },
   "source": [
    "### Script parameters\n",
    "- Language: supported 'it' and 'en'\n",
    "- Model name: the model to use\n",
    "- Rollout: if to apply rollout to ValueZeroing\n",
    "- Aggregation method: how to compute the attention of a word composed of multiple sub-tokens. Supported values:\n",
    "\t- sum: sum attention values of all sub-tokens\n",
    "\t- max: take the maximum attention value among sub-tokens\n",
    "\t- mean: average the attention values of the sub-tokens\n",
    "\t- first: take the attention value of the first sub-token\n",
    "- Layer: the layer from which to extract attention"
   ]
  },
  {
   "cell_type": "code",
   "execution_count": 2,
   "id": "97df8eda542447e3",
   "metadata": {
    "ExecuteTime": {
     "end_time": "2023-09-04T13:39:28.664965062Z",
     "start_time": "2023-09-04T13:39:28.644612707Z"
    },
    "collapsed": false,
    "jupyter": {
     "outputs_hidden": false
    }
   },
   "outputs": [],
   "source": [
    "language = 'it'\n",
    "rollout = True\n",
    "aggregation_method = 'first'\n",
    "layer = 11\n",
    "model_name = 'xlm-roberta-base'\n",
    "subword_prefix = '▁' #'Ġ' \n",
    "method = 'attention'"
   ]
  },
  {
   "cell_type": "code",
   "execution_count": 3,
   "id": "4d6fb36e1dd97d74",
   "metadata": {
    "ExecuteTime": {
     "end_time": "2023-09-04T13:39:28.665449810Z",
     "start_time": "2023-09-04T13:39:28.649240449Z"
    },
    "collapsed": false,
    "jupyter": {
     "outputs_hidden": false
    }
   },
   "outputs": [
    {
     "data": {
      "text/plain": [
       "'output/attn_data/value_zeroing/it/xlm-roberta-base/first_rollout_l11.json'"
      ]
     },
     "execution_count": 3,
     "metadata": {},
     "output_type": "execute_result"
    }
   ],
   "source": [
    "out_dir = f'output/attn_data/value_zeroing/{language}/{model_name}'\n",
    "if not os.path.exists(out_dir):\n",
    "    os.makedirs(out_dir)\n",
    "\n",
    "out_file_name = f'{aggregation_method}' if not rollout else f'{aggregation_method}_rollout'\n",
    "out_file_name += f'_l{layer}.json'\n",
    "out_path = os.path.join(out_dir, out_file_name)\n",
    "out_path"
   ]
  },
  {
   "cell_type": "code",
   "execution_count": 4,
   "id": "4e29c32e2be2e855",
   "metadata": {
    "ExecuteTime": {
     "end_time": "2023-09-04T13:39:28.812628523Z",
     "start_time": "2023-09-04T13:39:28.764331331Z"
    },
    "collapsed": false,
    "jupyter": {
     "outputs_hidden": false
    }
   },
   "outputs": [],
   "source": [
    "dataset_path = '../augmenting_nlms_meco_data/en/en_49_dataset.csv'\n",
    "data = pd.read_csv(dataset_path, index_col=0)\n",
    "gaze_dataset = _create_senteces_from_data(data, [], keep_id=True)"
   ]
  },
  {
   "cell_type": "code",
   "execution_count": 5,
   "id": "001b0f1c-a0a6-4d5e-81ec-df0615857cc4",
   "metadata": {},
   "outputs": [
    {
     "data": {
      "text/plain": [
       "Dataset({\n",
       "    features: ['id', 'text'],\n",
       "    num_rows: 47\n",
       "})"
      ]
     },
     "execution_count": 5,
     "metadata": {},
     "output_type": "execute_result"
    }
   ],
   "source": [
    "gaze_dataset"
   ]
  },
  {
   "cell_type": "code",
   "execution_count": 6,
   "id": "2c777aa178e4a88e",
   "metadata": {
    "ExecuteTime": {
     "end_time": "2023-09-04T13:39:31.724969550Z",
     "start_time": "2023-09-04T13:39:30.580927726Z"
    },
    "collapsed": false,
    "jupyter": {
     "outputs_hidden": false
    }
   },
   "outputs": [],
   "source": [
    "tokenizer = AutoTokenizer.from_pretrained(model_name, add_prefix_space=True)"
   ]
  },
  {
   "cell_type": "markdown",
   "id": "f19afe364b7a0f2a",
   "metadata": {
    "collapsed": false,
    "jupyter": {
     "outputs_hidden": false
    }
   },
   "source": [
    "Create a mapping of indices to align model's tokens and sub-tokens to original words"
   ]
  },
  {
   "cell_type": "code",
   "execution_count": 7,
   "id": "ac2de283c5c45b72",
   "metadata": {
    "ExecuteTime": {
     "end_time": "2023-09-04T13:39:32.335536029Z",
     "start_time": "2023-09-04T13:39:32.294679838Z"
    },
    "collapsed": false,
    "jupyter": {
     "outputs_hidden": false
    }
   },
   "outputs": [],
   "source": [
    "def align_to_original_words(model_tokens: list, original_tokens: list, subword_prefix: str,\n",
    "                            lowercase: bool = False) -> list:\n",
    "    if lowercase:\n",
    "        original_tokens = [tok.lower() for tok in original_tokens]\n",
    "    model_tokens = model_tokens[1: -1]  # Remove <s> and </s>\n",
    "    aligned_model_tokens = []\n",
    "    alignment_ids = []\n",
    "    alignment_id = -1\n",
    "    orig_idx = 0\n",
    "    for token in model_tokens:\n",
    "        alignment_id += 1\n",
    "        if token.startswith(subword_prefix):  # Remove the sub-word prefix\n",
    "            token = token[len(subword_prefix):]\n",
    "        if len(aligned_model_tokens) == 0:  # First token (serve?)\n",
    "            aligned_model_tokens.append(token)\n",
    "        elif aligned_model_tokens[-1] + token in original_tokens[\n",
    "            orig_idx]:  # We are in the second (third, fourth, ...) sub-token\n",
    "            aligned_model_tokens[-1] += token  # so we merge the token with its preceding(s)\n",
    "            alignment_id -= 1\n",
    "        else:\n",
    "            aligned_model_tokens.append(token)\n",
    "        if aligned_model_tokens[-1] == original_tokens[\n",
    "            orig_idx]:  # A token was equal to an entire original word or a set of\n",
    "            orig_idx += 1  # sub-tokens was merged and matched an original word\n",
    "        alignment_ids.append(alignment_id)\n",
    "\n",
    "    if aligned_model_tokens != original_tokens:\n",
    "        raise Exception(\n",
    "            f'Failed to align tokens.\\nOriginal tokens: {original_tokens}\\nObtained alignment: {aligned_model_tokens}')\n",
    "    return alignment_ids"
   ]
  },
  {
   "cell_type": "code",
   "execution_count": 8,
   "id": "af79396bb0ee48be",
   "metadata": {
    "ExecuteTime": {
     "end_time": "2023-09-04T13:39:32.865908243Z",
     "start_time": "2023-09-04T13:39:32.850990914Z"
    },
    "collapsed": false,
    "jupyter": {
     "outputs_hidden": false
    }
   },
   "outputs": [],
   "source": [
    "def create_subwords_alignment(dataset: list, tokenizer: AutoTokenizer, subword_prefix: str,\n",
    "                              lowercase: bool = False) -> dict:\n",
    "    sentence_alignment_dict = dict()\n",
    "\n",
    "    for sent_id, sentence in zip(dataset['id'], dataset['text']):\n",
    "        for tok_id, tok in enumerate(sentence):\n",
    "            if tok == '–':\n",
    "                sentence[tok_id] = '-'\n",
    "        if lowercase:\n",
    "            sentence = [word.lower() for word in sentence]\n",
    "        tokenized_sentence = tokenizer(sentence, is_split_into_words=True, return_tensors='pt')\n",
    "        input_ids = tokenized_sentence['input_ids'].tolist()[0]  # 0 because the batch_size is 1\n",
    "        model_tokens = tokenizer.convert_ids_to_tokens(input_ids)\n",
    "        alignment_ids = align_to_original_words(model_tokens, sentence, subword_prefix, lowercase)\n",
    "        sentence_alignment_dict[sent_id] = {'model_input': tokenized_sentence, 'alignment_ids': alignment_ids}\n",
    "    return sentence_alignment_dict"
   ]
  },
  {
   "cell_type": "code",
   "execution_count": 9,
   "id": "d45805c8c08c2569",
   "metadata": {
    "ExecuteTime": {
     "end_time": "2023-09-04T13:39:33.704573938Z",
     "start_time": "2023-09-04T13:39:33.619477454Z"
    },
    "collapsed": false,
    "jupyter": {
     "outputs_hidden": false
    }
   },
   "outputs": [],
   "source": [
    "sentence_alignment_dict = create_subwords_alignment(gaze_dataset, tokenizer, subword_prefix)"
   ]
  },
  {
   "cell_type": "code",
   "execution_count": 10,
   "id": "74137b9d205797a9",
   "metadata": {
    "ExecuteTime": {
     "end_time": "2023-09-04T13:39:58.735359170Z",
     "start_time": "2023-09-04T13:39:56.173439466Z"
    },
    "collapsed": false,
    "jupyter": {
     "outputs_hidden": false
    }
   },
   "outputs": [],
   "source": [
    "if method == 'valuezeroing':\n",
    "    attn_extractor = ValueZeroingContributionExtractor(model_name, layer, rollout, aggregation_method, 'cpu')\n",
    "elif method == 'alti':\n",
    "    attn_extractor = AltiContributionExtractor(model_name, layer, rollout, aggregation_method, 'cpu')\n",
    "else:\n",
    "    attn_extractor = AttentionMatrixExtractor(model_name, layer, rollout, aggregation_method, 'cpu')"
   ]
  },
  {
   "cell_type": "code",
   "execution_count": 11,
   "id": "72db509a53873ac",
   "metadata": {
    "ExecuteTime": {
     "end_time": "2023-09-04T13:40:07.671784464Z",
     "start_time": "2023-09-04T13:39:58.725217726Z"
    },
    "collapsed": false,
    "jupyter": {
     "outputs_hidden": false
    }
   },
   "outputs": [
    {
     "name": "stderr",
     "output_type": "stream",
     "text": [
      "100%|███████████████████████████████████████████████████████████████████████████████████████████████████████████████████████████████████████████████████████████████████████| 47/47 [00:00<00:00, 90.99it/s]\n"
     ]
    }
   ],
   "source": [
    "sentences_contribs = attn_extractor.get_contributions(sentence_alignment_dict)"
   ]
  },
  {
   "cell_type": "code",
   "execution_count": 12,
   "id": "bec86b28e3775a14",
   "metadata": {
    "ExecuteTime": {
     "end_time": "2023-09-04T13:40:07.677712752Z",
     "start_time": "2023-09-04T13:40:07.675482774Z"
    },
    "collapsed": false,
    "jupyter": {
     "outputs_hidden": false
    }
   },
   "outputs": [],
   "source": [
    "import matplotlib.pyplot as plt\n",
    "def plot_contributions(tokens, contributions):\n",
    "    plt.bar(tokens, contributions)\n",
    "    plt.xticks(rotation=90)"
   ]
  },
  {
   "cell_type": "code",
   "execution_count": 14,
   "id": "7e81a7f7ec017596",
   "metadata": {
    "ExecuteTime": {
     "end_time": "2023-09-04T13:40:07.687866334Z",
     "start_time": "2023-09-04T13:40:07.678845057Z"
    },
    "collapsed": false,
    "jupyter": {
     "outputs_hidden": false
    }
   },
   "outputs": [],
   "source": [
    "sentence_id = gaze_dataset['id'][0]\n",
    "sentence = gaze_dataset['text'][0]\n",
    "contribs = sentences_contribs[sentence_id]"
   ]
  },
  {
   "cell_type": "code",
   "execution_count": 15,
   "id": "dae08679-b6bc-4688-a55b-37805e57b0ed",
   "metadata": {},
   "outputs": [
    {
     "data": {
      "text/plain": [
       "30"
      ]
     },
     "execution_count": 15,
     "metadata": {},
     "output_type": "execute_result"
    }
   ],
   "source": [
    "len(sentence_alignment_dict[sentence_id]['model_input']['input_ids'][0])"
   ]
  },
  {
   "cell_type": "code",
   "execution_count": 16,
   "id": "53ba2bcb-a770-4599-975e-919a60384476",
   "metadata": {},
   "outputs": [
    {
     "data": {
      "text/plain": [
       "(25, 25)"
      ]
     },
     "execution_count": 16,
     "metadata": {},
     "output_type": "execute_result"
    }
   ],
   "source": [
    "len(sentence), len(contribs)"
   ]
  },
  {
   "cell_type": "code",
   "execution_count": 17,
   "id": "af07e9eca8c58011",
   "metadata": {
    "ExecuteTime": {
     "end_time": "2023-09-04T13:40:07.771510181Z",
     "start_time": "2023-09-04T13:40:07.689198258Z"
    },
    "collapsed": false,
    "jupyter": {
     "outputs_hidden": false
    }
   },
   "outputs": [
    {
     "data": {
      "text/plain": [
       "['The',\n",
       " 'International',\n",
       " 'Union',\n",
       " 'for',\n",
       " 'Conservation',\n",
       " 'of',\n",
       " 'Nature',\n",
       " 'is',\n",
       " 'an',\n",
       " 'international',\n",
       " 'organization',\n",
       " 'working',\n",
       " 'in',\n",
       " 'the',\n",
       " 'field',\n",
       " 'of',\n",
       " 'nature',\n",
       " 'conservation',\n",
       " 'and',\n",
       " 'the',\n",
       " 'sustainable',\n",
       " 'use',\n",
       " 'of',\n",
       " 'natural',\n",
       " 'resources.']"
      ]
     },
     "execution_count": 17,
     "metadata": {},
     "output_type": "execute_result"
    }
   ],
   "source": [
    "sentence"
   ]
  },
  {
   "cell_type": "code",
   "execution_count": 18,
   "id": "555d61165a13ffe3",
   "metadata": {
    "ExecuteTime": {
     "end_time": "2023-09-04T13:40:07.901745170Z",
     "start_time": "2023-09-04T13:40:07.738335208Z"
    },
    "collapsed": false,
    "jupyter": {
     "outputs_hidden": false
    }
   },
   "outputs": [
    {
     "data": {
      "image/png": "[encoded data removed]",
      "text/plain": [
       "<Figure size 1200x1200 with 1 Axes>"
      ]
     },
     "metadata": {},
     "output_type": "display_data"
    }
   ],
   "source": [
    "plot_contributions(sentence, contribs)"
   ]
  }
 ],
 "metadata": {
  "kernelspec": {
   "display_name": "Python 3 (ipykernel)",
   "language": "python",
   "name": "python3"
  },
  "language_info": {
   "codemirror_mode": {
    "name": "ipython",
    "version": 3
   },
   "file_extension": ".py",
   "mimetype": "text/x-python",
   "name": "python",
   "nbconvert_exporter": "python",
   "pygments_lexer": "ipython3",
   "version": "3.10.12"
  }
 },
 "nbformat": 4,
 "nbformat_minor": 5
}
