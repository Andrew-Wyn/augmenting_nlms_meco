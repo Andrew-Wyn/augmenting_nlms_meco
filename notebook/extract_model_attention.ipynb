{
 "cells": [
  {
   "cell_type": "code",
   "execution_count": 1,
   "id": "initial_id",
   "metadata": {
    "ExecuteTime": {
     "end_time": "2023-09-04T13:39:28.643484862Z",
     "start_time": "2023-09-04T13:39:25.710486468Z"
    },
    "collapsed": true
   },
   "outputs": [],
   "source": [
    "from utils import *\n",
    "import pandas as pd\n",
    "import os"
   ]
  },
  {
   "cell_type": "markdown",
   "id": "ea696bc14c127804",
   "metadata": {
    "collapsed": false
   },
   "source": [
    "### Script parameters\n",
    "- Language: supported 'it' and 'en'\n",
    "- Model name: the model to use\n",
    "- Rollout: if to apply rollout to ValueZeroing\n",
    "- Aggregation method: how to compute the attention of a word composed of multiple sub-tokens. Supported values:\n",
    "\t- sum: sum attention values of all sub-tokens\n",
    "\t- max: take the maximum attention value among sub-tokens\n",
    "\t- mean: average the attention values of the sub-tokens\n",
    "\t- first: take the attention value of the first sub-token\n",
    "- Layer: the layer from which to extract attention"
   ]
  },
  {
   "cell_type": "code",
   "execution_count": 2,
   "id": "97df8eda542447e3",
   "metadata": {
    "ExecuteTime": {
     "end_time": "2023-09-04T13:39:28.664965062Z",
     "start_time": "2023-09-04T13:39:28.644612707Z"
    },
    "collapsed": false
   },
   "outputs": [],
   "source": [
    "language = 'it'\n",
    "rollout = True\n",
    "aggregation_method = 'first'\n",
    "layer = 11\n",
    "model_name = 'xlm-roberta-base'\n",
    "subword_prefix = '▁' #'Ġ' \n",
    "method = 'attention'"
   ]
  },
  {
   "cell_type": "code",
   "execution_count": 3,
   "id": "4d6fb36e1dd97d74",
   "metadata": {
    "ExecuteTime": {
     "end_time": "2023-09-04T13:39:28.665449810Z",
     "start_time": "2023-09-04T13:39:28.649240449Z"
    },
    "collapsed": false
   },
   "outputs": [
    {
     "data": {
      "text/plain": [
       "'data/value_zeroing/it/xlm-roberta-base/first_rollout_l11.json'"
      ]
     },
     "execution_count": 3,
     "metadata": {},
     "output_type": "execute_result"
    }
   ],
   "source": [
    "eye_tracking_data_dir = f'../../augmenting_nlms_meco_data/{language}'\n",
    "\n",
    "out_dir = f'output/attn_data/value_zeroing/{language}/{model_name}'\n",
    "if not os.path.exists(out_dir):\n",
    "    os.makedirs(out_dir)\n",
    "\n",
    "out_file_name = f'{aggregation_method}' if not rollout else f'{aggregation_method}_rollout'\n",
    "out_file_name += f'_l{layer}.json'\n",
    "out_path = os.path.join(out_dir, out_file_name)\n",
    "out_path"
   ]
  },
  {
   "cell_type": "code",
   "execution_count": 4,
   "id": "4e29c32e2be2e855",
   "metadata": {
    "ExecuteTime": {
     "end_time": "2023-09-04T13:39:28.812628523Z",
     "start_time": "2023-09-04T13:39:28.764331331Z"
    },
    "collapsed": false
   },
   "outputs": [],
   "source": [
    "dl = EyeTrackingDataLoader(eye_tracking_data_dir)\n",
    "sentences_df = dl.load_sentences()"
   ]
  },
  {
   "cell_type": "code",
   "execution_count": 5,
   "id": "52bd9c155f63e68c",
   "metadata": {
    "ExecuteTime": {
     "end_time": "2023-09-04T13:39:29.475892506Z",
     "start_time": "2023-09-04T13:39:29.437896905Z"
    },
    "collapsed": false
   },
   "outputs": [
    {
     "data": {
      "text/html": [
       "<div>\n",
       "<style scoped>\n",
       "    .dataframe tbody tr th:only-of-type {\n",
       "        vertical-align: middle;\n",
       "    }\n",
       "\n",
       "    .dataframe tbody tr th {\n",
       "        vertical-align: top;\n",
       "    }\n",
       "\n",
       "    .dataframe thead th {\n",
       "        text-align: right;\n",
       "    }\n",
       "</style>\n",
       "<table border=\"1\" class=\"dataframe\">\n",
       "  <thead>\n",
       "    <tr style=\"text-align: right;\">\n",
       "      <th></th>\n",
       "      <th>sent_id</th>\n",
       "      <th>sentence</th>\n",
       "    </tr>\n",
       "  </thead>\n",
       "  <tbody>\n",
       "    <tr>\n",
       "      <th>0</th>\n",
       "      <td>1_1</td>\n",
       "      <td>[Negli, antichi, miti, e, religioni, Romane,, ...</td>\n",
       "    </tr>\n",
       "    <tr>\n",
       "      <th>1</th>\n",
       "      <td>1_2</td>\n",
       "      <td>[Egli, ha, una, doppia, natura, ed, è, solitam...</td>\n",
       "    </tr>\n",
       "    <tr>\n",
       "      <th>2</th>\n",
       "      <td>1_3</td>\n",
       "      <td>[Giano, presiede, sull’inizio, e, sulla, fine,...</td>\n",
       "    </tr>\n",
       "    <tr>\n",
       "      <th>3</th>\n",
       "      <td>1_4</td>\n",
       "      <td>[Le, porte, del, suo, tempio, erano, aperte, i...</td>\n",
       "    </tr>\n",
       "    <tr>\n",
       "      <th>4</th>\n",
       "      <td>1_5</td>\n",
       "      <td>[Come, dio, dei, cancelli,, era, anche, associ...</td>\n",
       "    </tr>\n",
       "    <tr>\n",
       "      <th>...</th>\n",
       "      <td>...</td>\n",
       "      <td>...</td>\n",
       "    </tr>\n",
       "    <tr>\n",
       "      <th>85</th>\n",
       "      <td>12_4</td>\n",
       "      <td>[L'identificativo, di, registrazione, è, una, ...</td>\n",
       "    </tr>\n",
       "    <tr>\n",
       "      <th>86</th>\n",
       "      <td>12_5</td>\n",
       "      <td>[In, alcuni, paesi,, l'identificativo, è, univ...</td>\n",
       "    </tr>\n",
       "    <tr>\n",
       "      <th>87</th>\n",
       "      <td>12_6</td>\n",
       "      <td>[La, Francia, fu, il, primo, paese, ad, introd...</td>\n",
       "    </tr>\n",
       "    <tr>\n",
       "      <th>88</th>\n",
       "      <td>12_7</td>\n",
       "      <td>[Le, targhe, dei, primi, del, novecento, varia...</td>\n",
       "    </tr>\n",
       "    <tr>\n",
       "      <th>89</th>\n",
       "      <td>12_8</td>\n",
       "      <td>[La, standardizzazione, delle, targhe, avvenne...</td>\n",
       "    </tr>\n",
       "  </tbody>\n",
       "</table>\n",
       "<p>90 rows × 2 columns</p>\n",
       "</div>"
      ],
      "text/plain": [
       "   sent_id                                           sentence\n",
       "0      1_1  [Negli, antichi, miti, e, religioni, Romane,, ...\n",
       "1      1_2  [Egli, ha, una, doppia, natura, ed, è, solitam...\n",
       "2      1_3  [Giano, presiede, sull’inizio, e, sulla, fine,...\n",
       "3      1_4  [Le, porte, del, suo, tempio, erano, aperte, i...\n",
       "4      1_5  [Come, dio, dei, cancelli,, era, anche, associ...\n",
       "..     ...                                                ...\n",
       "85    12_4  [L'identificativo, di, registrazione, è, una, ...\n",
       "86    12_5  [In, alcuni, paesi,, l'identificativo, è, univ...\n",
       "87    12_6  [La, Francia, fu, il, primo, paese, ad, introd...\n",
       "88    12_7  [Le, targhe, dei, primi, del, novecento, varia...\n",
       "89    12_8  [La, standardizzazione, delle, targhe, avvenne...\n",
       "\n",
       "[90 rows x 2 columns]"
      ]
     },
     "execution_count": 5,
     "metadata": {},
     "output_type": "execute_result"
    }
   ],
   "source": [
    "sentences_df"
   ]
  },
  {
   "cell_type": "code",
   "execution_count": 6,
   "id": "2c777aa178e4a88e",
   "metadata": {
    "ExecuteTime": {
     "end_time": "2023-09-04T13:39:31.724969550Z",
     "start_time": "2023-09-04T13:39:30.580927726Z"
    },
    "collapsed": false
   },
   "outputs": [],
   "source": [
    "tokenizer = AutoTokenizer.from_pretrained(model_name, add_prefix_space=True)"
   ]
  },
  {
   "cell_type": "markdown",
   "id": "f19afe364b7a0f2a",
   "metadata": {
    "collapsed": false
   },
   "source": [
    "Create a mapping of indices to align model's tokens and sub-tokens to original words"
   ]
  },
  {
   "cell_type": "code",
   "execution_count": 7,
   "id": "ac2de283c5c45b72",
   "metadata": {
    "ExecuteTime": {
     "end_time": "2023-09-04T13:39:32.335536029Z",
     "start_time": "2023-09-04T13:39:32.294679838Z"
    },
    "collapsed": false
   },
   "outputs": [],
   "source": [
    "def align_to_original_words(model_tokens: list, original_tokens: list, subword_prefix: str,\n",
    "                            lowercase: bool = False) -> list:\n",
    "    if lowercase:\n",
    "        original_tokens = [tok.lower() for tok in original_tokens]\n",
    "    model_tokens = model_tokens[1: -1]  # Remove <s> and </s>\n",
    "    aligned_model_tokens = []\n",
    "    alignment_ids = []\n",
    "    alignment_id = -1\n",
    "    orig_idx = 0\n",
    "    for token in model_tokens:\n",
    "        alignment_id += 1\n",
    "        if token.startswith(subword_prefix):  # Remove the sub-word prefix\n",
    "            token = token[len(subword_prefix):]\n",
    "        if len(aligned_model_tokens) == 0:  # First token (serve?)\n",
    "            aligned_model_tokens.append(token)\n",
    "        elif aligned_model_tokens[-1] + token in original_tokens[\n",
    "            orig_idx]:  # We are in the second (third, fourth, ...) sub-token\n",
    "            aligned_model_tokens[-1] += token  # so we merge the token with its preceding(s)\n",
    "            alignment_id -= 1\n",
    "        else:\n",
    "            aligned_model_tokens.append(token)\n",
    "        if aligned_model_tokens[-1] == original_tokens[\n",
    "            orig_idx]:  # A token was equal to an entire original word or a set of\n",
    "            orig_idx += 1  # sub-tokens was merged and matched an original word\n",
    "        alignment_ids.append(alignment_id)\n",
    "\n",
    "    if aligned_model_tokens != original_tokens:\n",
    "        raise Exception(\n",
    "            f'Failed to align tokens.\\nOriginal tokens: {original_tokens}\\nObtained alignment: {aligned_model_tokens}')\n",
    "    return alignment_ids"
   ]
  },
  {
   "cell_type": "code",
   "execution_count": 8,
   "id": "af79396bb0ee48be",
   "metadata": {
    "ExecuteTime": {
     "end_time": "2023-09-04T13:39:32.865908243Z",
     "start_time": "2023-09-04T13:39:32.850990914Z"
    },
    "collapsed": false
   },
   "outputs": [],
   "source": [
    "def create_subwords_alignment(sentences_df: pd.DataFrame, tokenizer: AutoTokenizer, subword_prefix: str,\n",
    "                              lowercase: bool = False) -> dict:\n",
    "    sentence_alignment_dict = dict()\n",
    "\n",
    "    for idx, row in sentences_df.iterrows():\n",
    "        sent_id = row['sent_id']\n",
    "        sentence = row['sentence']\n",
    "        for tok_id, tok in enumerate(sentence):\n",
    "            if tok == '–':\n",
    "                sentence[tok_id] = '-'\n",
    "        if lowercase:\n",
    "            sentence = [word.lower() for word in sentence]\n",
    "        tokenized_sentence = tokenizer(sentence, is_split_into_words=True, return_tensors='pt')\n",
    "        input_ids = tokenized_sentence['input_ids'].tolist()[0]  # 0 because the batch_size is 1\n",
    "        model_tokens = tokenizer.convert_ids_to_tokens(input_ids)\n",
    "        alignment_ids = align_to_original_words(model_tokens, sentence, subword_prefix, lowercase)\n",
    "        sentence_alignment_dict[sent_id] = {'model_input': tokenized_sentence, 'alignment_ids': alignment_ids}\n",
    "    return sentence_alignment_dict"
   ]
  },
  {
   "cell_type": "code",
   "execution_count": 9,
   "id": "d45805c8c08c2569",
   "metadata": {
    "ExecuteTime": {
     "end_time": "2023-09-04T13:39:33.704573938Z",
     "start_time": "2023-09-04T13:39:33.619477454Z"
    },
    "collapsed": false
   },
   "outputs": [],
   "source": [
    "sentence_alignment_dict = create_subwords_alignment(sentences_df, tokenizer, subword_prefix)"
   ]
  },
  {
   "cell_type": "code",
   "execution_count": 11,
   "id": "74137b9d205797a9",
   "metadata": {
    "ExecuteTime": {
     "end_time": "2023-09-04T13:39:58.735359170Z",
     "start_time": "2023-09-04T13:39:56.173439466Z"
    },
    "collapsed": false
   },
   "outputs": [],
   "source": [
    "if method == 'valuezeroing':\n",
    "    attn_extractor = ValueZeroingContributionExtractor(model_name, layer, rollout, aggregation_method, 'cpu')\n",
    "elif method == 'alti':\n",
    "    attn_extractor = AltiContributionExtractor(model_name, layer, rollout, aggregation_method, 'cpu')\n",
    "else:\n",
    "    attn_extractor = AttentionMatrixExtractor(model_name, layer, rollout, aggregation_method, 'cpu')"
   ]
  },
  {
   "cell_type": "code",
   "execution_count": 12,
   "id": "72db509a53873ac",
   "metadata": {
    "ExecuteTime": {
     "end_time": "2023-09-04T13:40:07.671784464Z",
     "start_time": "2023-09-04T13:39:58.725217726Z"
    },
    "collapsed": false
   },
   "outputs": [
    {
     "name": "stderr",
     "output_type": "stream",
     "text": [
      "100%|██████████| 90/90 [00:08<00:00, 10.07it/s]\n"
     ]
    }
   ],
   "source": [
    "sentences_contribs = attn_extractor.get_contributions(sentence_alignment_dict)"
   ]
  },
  {
   "cell_type": "code",
   "execution_count": 13,
   "id": "bec86b28e3775a14",
   "metadata": {
    "ExecuteTime": {
     "end_time": "2023-09-04T13:40:07.677712752Z",
     "start_time": "2023-09-04T13:40:07.675482774Z"
    },
    "collapsed": false
   },
   "outputs": [],
   "source": [
    "import matplotlib.pyplot as plt\n",
    "def plot_contributions(tokens, contributions):\n",
    "    plt.bar(tokens, contributions)\n",
    "    plt.xticks(rotation=90)"
   ]
  },
  {
   "cell_type": "code",
   "execution_count": 14,
   "id": "7e81a7f7ec017596",
   "metadata": {
    "ExecuteTime": {
     "end_time": "2023-09-04T13:40:07.687866334Z",
     "start_time": "2023-09-04T13:40:07.678845057Z"
    },
    "collapsed": false
   },
   "outputs": [],
   "source": [
    "sentence = sentences_df[sentences_df['sent_id']=='1_1']['sentence'].tolist()[0]\n",
    "contribs = sentences_contribs['1_1']"
   ]
  },
  {
   "cell_type": "code",
   "execution_count": 15,
   "id": "af07e9eca8c58011",
   "metadata": {
    "ExecuteTime": {
     "end_time": "2023-09-04T13:40:07.771510181Z",
     "start_time": "2023-09-04T13:40:07.689198258Z"
    },
    "collapsed": false
   },
   "outputs": [
    {
     "data": {
      "text/plain": [
       "[0.01941528730094433,\n",
       " 0.019268620759248734,\n",
       " 0.03054790198802948,\n",
       " 0.02190074883401394,\n",
       " 0.018786562606692314,\n",
       " 0.031822435557842255,\n",
       " 0.04798063635826111,\n",
       " 0.0197459664195776,\n",
       " 0.03754480555653572,\n",
       " 0.028361359611153603,\n",
       " 0.031376320868730545,\n",
       " 0.023438503965735435,\n",
       " 0.022536689415574074,\n",
       " 0.032102908939123154,\n",
       " 0.029321059584617615]"
      ]
     },
     "execution_count": 15,
     "metadata": {},
     "output_type": "execute_result"
    }
   ],
   "source": [
    "contribs"
   ]
  },
  {
   "cell_type": "code",
   "execution_count": 16,
   "id": "555d61165a13ffe3",
   "metadata": {
    "ExecuteTime": {
     "end_time": "2023-09-04T13:40:07.901745170Z",
     "start_time": "2023-09-04T13:40:07.738335208Z"
    },
    "collapsed": false
   },
   "outputs": [
    {
     "data": {
      "image/png": "[encoded data removed]",
      "text/plain": [
       "<Figure size 1200x1200 with 1 Axes>"
      ]
     },
     "metadata": {},
     "output_type": "display_data"
    }
   ],
   "source": [
    "plot_contributions(sentence, contribs)"
   ]
  },
  {
   "cell_type": "code",
   "execution_count": 17,
   "id": "2cc0f1f7dc84a40f",
   "metadata": {
    "ExecuteTime": {
     "end_time": "2023-09-04T13:40:07.947728838Z",
     "start_time": "2023-09-04T13:40:07.902961648Z"
    },
    "collapsed": false
   },
   "outputs": [],
   "source": [
    "out_path = 'output/attn_data/value_zeroing/en/roberta-base/puppa.json'"
   ]
  },
  {
   "cell_type": "code",
   "execution_count": 22,
   "id": "2f4205e2374bdd58",
   "metadata": {
    "ExecuteTime": {
     "end_time": "2023-09-04T11:24:34.136847527Z",
     "start_time": "2023-09-04T11:24:34.095563104Z"
    },
    "collapsed": false
   },
   "outputs": [],
   "source": [
    "import json\n",
    "def save_dictionary(dictionary, out_path):\n",
    "    with open(out_path, 'w') as out_file:\n",
    "        out_file.write(json.dumps(dictionary))"
   ]
  },
  {
   "cell_type": "code",
   "execution_count": 23,
   "id": "589e90361be18fa7",
   "metadata": {
    "ExecuteTime": {
     "end_time": "2023-09-04T11:24:34.137021603Z",
     "start_time": "2023-09-04T11:24:34.095861737Z"
    },
    "collapsed": false
   },
   "outputs": [],
   "source": [
    "save_dictionary(sentences_contribs, out_path)"
   ]
  },
  {
   "cell_type": "code",
   "execution_count": 23,
   "id": "3b2d2473132bcafb",
   "metadata": {
    "ExecuteTime": {
     "end_time": "2023-09-04T11:24:34.137126780Z",
     "start_time": "2023-09-04T11:24:34.096080776Z"
    },
    "collapsed": false
   },
   "outputs": [],
   "source": []
  }
 ],
 "metadata": {
  "kernelspec": {
   "display_name": "Python 3",
   "language": "python",
   "name": "python3"
  },
  "language_info": {
   "codemirror_mode": {
    "name": "ipython",
    "version": 2
   },
   "file_extension": ".py",
   "mimetype": "text/x-python",
   "name": "python",
   "nbconvert_exporter": "python",
   "pygments_lexer": "ipython2",
   "version": "2.7.6"
  }
 },
 "nbformat": 4,
 "nbformat_minor": 5
}
