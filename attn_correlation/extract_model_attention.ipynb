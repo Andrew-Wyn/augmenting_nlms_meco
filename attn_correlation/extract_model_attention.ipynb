{
 "cells": [
  {
   "cell_type": "code",
   "execution_count": 2,
   "id": "initial_id",
   "metadata": {
    "collapsed": true,
    "ExecuteTime": {
     "end_time": "2023-08-11T09:24:31.311770678Z",
     "start_time": "2023-08-11T09:24:30.792028024Z"
    }
   },
   "outputs": [],
   "source": [
    "from utils import EyeTrackingDataLoader\n",
    "from transformers import AutoTokenizer"
   ]
  },
  {
   "cell_type": "markdown",
   "source": [
    "### Script parameters\n",
    "- Language: supported 'it' and 'en'\n",
    "- Rollout: if to apply rollout to ValueZeroing\n",
    "- Aggregation method: how to compute the attention of a word composed of multiple sub-tokens. Supported values:\n",
    "\t- sum: sum attention values of all sub-tokens\n",
    "\t- max: take the maximum attention value among sub-tokens\n",
    "\t- mean: average the attention values of the sub-tokens\n",
    "\t- first: take the attention value of the first sub-token\n",
    "- Layer: the layer from which to extract attention"
   ],
   "metadata": {
    "collapsed": false
   },
   "id": "ea696bc14c127804"
  },
  {
   "cell_type": "code",
   "execution_count": 3,
   "outputs": [],
   "source": [
    "language = 'en'\n",
    "rollout = True\n",
    "aggregation_method = 'sum'\n",
    "layer = -1"
   ],
   "metadata": {
    "collapsed": false,
    "ExecuteTime": {
     "end_time": "2023-08-11T09:24:32.588427900Z",
     "start_time": "2023-08-11T09:24:32.576939204Z"
    }
   },
   "id": "97df8eda542447e3"
  },
  {
   "cell_type": "code",
   "execution_count": 4,
   "outputs": [],
   "source": [
    "eye_tracking_data_dir = f'../augmenting_nlms_meco_data/{language}'\n",
    "dl = EyeTrackingDataLoader(eye_tracking_data_dir)\n",
    "sentences_df = dl.load_sentences()"
   ],
   "metadata": {
    "collapsed": false,
    "ExecuteTime": {
     "end_time": "2023-08-11T09:24:39.314866416Z",
     "start_time": "2023-08-11T09:24:39.267611140Z"
    }
   },
   "id": "4e29c32e2be2e855"
  },
  {
   "cell_type": "code",
   "execution_count": 5,
   "outputs": [
    {
     "data": {
      "text/plain": "    sent_id                                           sentence\n0       1_1  [In, ancient, Roman, religion, and, myth,, Jan...\n1       1_2  [He, has, a, double, nature, and, is, usually,...\n2       1_3  [Janus, presided, over, the, beginning, and, e...\n3       1_4  [The, doors, of, his, temple, were, open, in, ...\n4       1_5  [As, the, god, of, gates,, he, was, also, asso...\n..      ...                                                ...\n96     12_4  [The, registration, identifier, is, a, series,...\n97     12_5  [In, some, countries,, the, identifier, is, un...\n98     12_6  [France, was, the, first, country, to, introdu...\n99     12_7  [Early, twentieth, century, plates, varied, in...\n100    12_8  [Standardization, of, plates, came, in, the, l...\n\n[101 rows x 2 columns]",
      "text/html": "<div>\n<style scoped>\n    .dataframe tbody tr th:only-of-type {\n        vertical-align: middle;\n    }\n\n    .dataframe tbody tr th {\n        vertical-align: top;\n    }\n\n    .dataframe thead th {\n        text-align: right;\n    }\n</style>\n<table border=\"1\" class=\"dataframe\">\n  <thead>\n    <tr style=\"text-align: right;\">\n      <th></th>\n      <th>sent_id</th>\n      <th>sentence</th>\n    </tr>\n  </thead>\n  <tbody>\n    <tr>\n      <th>0</th>\n      <td>1_1</td>\n      <td>[In, ancient, Roman, religion, and, myth,, Jan...</td>\n    </tr>\n    <tr>\n      <th>1</th>\n      <td>1_2</td>\n      <td>[He, has, a, double, nature, and, is, usually,...</td>\n    </tr>\n    <tr>\n      <th>2</th>\n      <td>1_3</td>\n      <td>[Janus, presided, over, the, beginning, and, e...</td>\n    </tr>\n    <tr>\n      <th>3</th>\n      <td>1_4</td>\n      <td>[The, doors, of, his, temple, were, open, in, ...</td>\n    </tr>\n    <tr>\n      <th>4</th>\n      <td>1_5</td>\n      <td>[As, the, god, of, gates,, he, was, also, asso...</td>\n    </tr>\n    <tr>\n      <th>...</th>\n      <td>...</td>\n      <td>...</td>\n    </tr>\n    <tr>\n      <th>96</th>\n      <td>12_4</td>\n      <td>[The, registration, identifier, is, a, series,...</td>\n    </tr>\n    <tr>\n      <th>97</th>\n      <td>12_5</td>\n      <td>[In, some, countries,, the, identifier, is, un...</td>\n    </tr>\n    <tr>\n      <th>98</th>\n      <td>12_6</td>\n      <td>[France, was, the, first, country, to, introdu...</td>\n    </tr>\n    <tr>\n      <th>99</th>\n      <td>12_7</td>\n      <td>[Early, twentieth, century, plates, varied, in...</td>\n    </tr>\n    <tr>\n      <th>100</th>\n      <td>12_8</td>\n      <td>[Standardization, of, plates, came, in, the, l...</td>\n    </tr>\n  </tbody>\n</table>\n<p>101 rows × 2 columns</p>\n</div>"
     },
     "execution_count": 5,
     "metadata": {},
     "output_type": "execute_result"
    }
   ],
   "source": [
    "sentences_df"
   ],
   "metadata": {
    "collapsed": false,
    "ExecuteTime": {
     "end_time": "2023-08-11T09:24:45.665574439Z",
     "start_time": "2023-08-11T09:24:45.659327360Z"
    }
   },
   "id": "52bd9c155f63e68c"
  },
  {
   "cell_type": "code",
   "execution_count": 6,
   "outputs": [],
   "source": [
    "model_name = 'xlm-roberta-base'\n",
    "tokenizer = AutoTokenizer.from_pretrained(model_name)\n",
    "subword_prefic = '▁'"
   ],
   "metadata": {
    "collapsed": false,
    "ExecuteTime": {
     "end_time": "2023-08-11T09:24:48.335626069Z",
     "start_time": "2023-08-11T09:24:47.332986765Z"
    }
   },
   "id": "2c777aa178e4a88e"
  }
 ],
 "metadata": {
  "kernelspec": {
   "display_name": "Python 3",
   "language": "python",
   "name": "python3"
  },
  "language_info": {
   "codemirror_mode": {
    "name": "ipython",
    "version": 2
   },
   "file_extension": ".py",
   "mimetype": "text/x-python",
   "name": "python",
   "nbconvert_exporter": "python",
   "pygments_lexer": "ipython2",
   "version": "2.7.6"
  }
 },
 "nbformat": 4,
 "nbformat_minor": 5
}
